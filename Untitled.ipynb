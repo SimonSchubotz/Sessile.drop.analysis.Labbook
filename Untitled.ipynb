{
 "cells": [
  {
   "cell_type": "code",
   "execution_count": 1,
   "id": "fatty-wedding",
   "metadata": {},
   "outputs": [
    {
     "data": {
      "text/plain": [
       "1"
      ]
     },
     "execution_count": 1,
     "metadata": {},
     "output_type": "execute_result"
    }
   ],
   "source": [
    "import numpy as np\n",
    "dummy = [True, False, True, True, False]\n",
    "np.argmax(dummy[::-1])"
   ]
  },
  {
   "cell_type": "code",
   "execution_count": 1,
   "id": "israeli-savannah",
   "metadata": {},
   "outputs": [
    {
     "data": {
      "text/plain": [
       "'1'"
      ]
     },
     "execution_count": 1,
     "metadata": {},
     "output_type": "execute_result"
    }
   ],
   "source": [
    "Drop = 'Drop_1'\n",
    "Drop[5:]"
   ]
  },
  {
   "cell_type": "code",
   "execution_count": 1,
   "id": "elegant-catch",
   "metadata": {},
   "outputs": [],
   "source": [
    "import os\n",
    "import datetime"
   ]
  },
  {
   "cell_type": "code",
   "execution_count": 3,
   "id": "devoted-external",
   "metadata": {},
   "outputs": [],
   "source": [
    "record_time = os.path.getmtime('Screenshot.png')\n",
    "file_time = datetime.datetime.fromtimestamp(record_time)"
   ]
  },
  {
   "cell_type": "code",
   "execution_count": 5,
   "id": "silent-modification",
   "metadata": {},
   "outputs": [],
   "source": [
    "abs_frame_time = file_time+datetime.timedelta(milliseconds=10)"
   ]
  },
  {
   "cell_type": "code",
   "execution_count": 11,
   "id": "hollow-commons",
   "metadata": {},
   "outputs": [
    {
     "data": {
      "text/plain": [
       "'2021.02.05 12:28:38.792222'"
      ]
     },
     "execution_count": 11,
     "metadata": {},
     "output_type": "execute_result"
    }
   ],
   "source": [
    "abs_frame_time.strftime(\"%Y.%m.%d %H:%M:%S.%f\")"
   ]
  },
  {
   "cell_type": "code",
   "execution_count": 15,
   "id": "enormous-westminster",
   "metadata": {},
   "outputs": [],
   "source": [
    "from shapely.geometry import LineString\n",
    "from pprint import pprint"
   ]
  },
  {
   "cell_type": "code",
   "execution_count": 21,
   "id": "adult-legislation",
   "metadata": {},
   "outputs": [
    {
     "data": {
      "image/svg+xml": [
       "<svg xmlns=\"http://www.w3.org/2000/svg\" xmlns:xlink=\"http://www.w3.org/1999/xlink\" width=\"100.0\" height=\"100.0\" viewBox=\"1059.0 1074.0 2.0 2.0\" preserveAspectRatio=\"xMinYMin meet\"><g transform=\"matrix(1,0,0,-1,0,2150.0)\"><circle cx=\"1060.0\" cy=\"1075.0\" r=\"0.06\" stroke=\"#555555\" stroke-width=\"0.02\" fill=\"#66cc99\" opacity=\"0.6\" /></g></svg>"
      ],
      "text/plain": [
       "<shapely.geometry.point.Point at 0x2517a299220>"
      ]
     },
     "execution_count": 21,
     "metadata": {},
     "output_type": "execute_result"
    }
   ],
   "source": [
    "upper_base = LineString([(1060,1075), (215,233)])\n",
    "lower_base = LineString([(1060,1075), (255,235)])\n",
    "upper_base.intersection(lower_base)"
   ]
  },
  {
   "cell_type": "code",
   "execution_count": 6,
   "id": "smaller-archives",
   "metadata": {},
   "outputs": [
    {
     "data": {
      "application/vnd.jupyter.widget-view+json": {
       "model_id": "790bfdd8761f4a1da1af12839dbab4cd",
       "version_major": 2,
       "version_minor": 0
      },
      "text/plain": [
       "Output()"
      ]
     },
     "metadata": {},
     "output_type": "display_data"
    },
    {
     "ename": "ZeroDivisionError",
     "evalue": "integer division or modulo by zero",
     "output_type": "error",
     "traceback": [
      "\u001b[1;31m---------------------------------------------------------------------------\u001b[0m",
      "\u001b[1;31mZeroDivisionError\u001b[0m                         Traceback (most recent call last)",
      "\u001b[1;32m<ipython-input-6-3c107e87f1ac>\u001b[0m in \u001b[0;36m<module>\u001b[1;34m\u001b[0m\n\u001b[0;32m      2\u001b[0m \u001b[1;32mimport\u001b[0m \u001b[0mperfplot\u001b[0m\u001b[1;33m\u001b[0m\u001b[1;33m\u001b[0m\u001b[0m\n\u001b[0;32m      3\u001b[0m \u001b[1;33m\u001b[0m\u001b[0m\n\u001b[1;32m----> 4\u001b[1;33m perfplot.show(\n\u001b[0m\u001b[0;32m      5\u001b[0m     \u001b[0msetup\u001b[0m\u001b[1;33m=\u001b[0m\u001b[1;32mlambda\u001b[0m \u001b[0mn\u001b[0m\u001b[1;33m:\u001b[0m \u001b[0mnp\u001b[0m\u001b[1;33m.\u001b[0m\u001b[0mrandom\u001b[0m\u001b[1;33m.\u001b[0m\u001b[0mrand\u001b[0m\u001b[1;33m(\u001b[0m\u001b[0mn\u001b[0m\u001b[1;33m)\u001b[0m\u001b[1;33m,\u001b[0m  \u001b[1;31m# or setup=np.random.rand\u001b[0m\u001b[1;33m\u001b[0m\u001b[1;33m\u001b[0m\u001b[0m\n\u001b[0;32m      6\u001b[0m     kernels=[\n",
      "\u001b[1;32mc:\\users\\schubotz\\appdata\\local\\programs\\python\\python39\\lib\\site-packages\\perfplot\\_main.py\u001b[0m in \u001b[0;36mshow\u001b[1;34m(time_unit, relative_to, logx, logy, *args, **kwargs)\u001b[0m\n\u001b[0;32m    504\u001b[0m     \u001b[1;33m**\u001b[0m\u001b[0mkwargs\u001b[0m\u001b[1;33m,\u001b[0m\u001b[1;33m\u001b[0m\u001b[1;33m\u001b[0m\u001b[0m\n\u001b[0;32m    505\u001b[0m ):\n\u001b[1;32m--> 506\u001b[1;33m     \u001b[0mout\u001b[0m \u001b[1;33m=\u001b[0m \u001b[0mbench\u001b[0m\u001b[1;33m(\u001b[0m\u001b[1;33m*\u001b[0m\u001b[0margs\u001b[0m\u001b[1;33m,\u001b[0m \u001b[1;33m**\u001b[0m\u001b[0mkwargs\u001b[0m\u001b[1;33m)\u001b[0m\u001b[1;33m\u001b[0m\u001b[1;33m\u001b[0m\u001b[0m\n\u001b[0m\u001b[0;32m    507\u001b[0m     out.show(\n\u001b[0;32m    508\u001b[0m         \u001b[0mtime_unit\u001b[0m\u001b[1;33m=\u001b[0m\u001b[0mtime_unit\u001b[0m\u001b[1;33m,\u001b[0m\u001b[1;33m\u001b[0m\u001b[1;33m\u001b[0m\u001b[0m\n",
      "\u001b[1;32mc:\\users\\schubotz\\appdata\\local\\programs\\python\\python39\\lib\\site-packages\\perfplot\\_main.py\u001b[0m in \u001b[0;36mbench\u001b[1;34m(setup, kernels, n_range, flops, labels, xlabel, target_time_per_measurement, max_time, equality_check, show_progress)\u001b[0m\n\u001b[0;32m    465\u001b[0m \u001b[1;33m\u001b[0m\u001b[0m\n\u001b[0;32m    466\u001b[0m             \u001b[1;32mfor\u001b[0m \u001b[0mi\u001b[0m \u001b[1;32min\u001b[0m \u001b[0mrange\u001b[0m\u001b[1;33m(\u001b[0m\u001b[0mlen\u001b[0m\u001b[1;33m(\u001b[0m\u001b[0mn_range\u001b[0m\u001b[1;33m)\u001b[0m\u001b[1;33m)\u001b[0m\u001b[1;33m:\u001b[0m\u001b[1;33m\u001b[0m\u001b[1;33m\u001b[0m\u001b[0m\n\u001b[1;32m--> 467\u001b[1;33m                 \u001b[0mtimings_s\u001b[0m\u001b[1;33m[\u001b[0m\u001b[0mi\u001b[0m\u001b[1;33m]\u001b[0m \u001b[1;33m=\u001b[0m \u001b[0mnext\u001b[0m\u001b[1;33m(\u001b[0m\u001b[0mb\u001b[0m\u001b[1;33m)\u001b[0m\u001b[1;33m\u001b[0m\u001b[1;33m\u001b[0m\u001b[0m\n\u001b[0m\u001b[0;32m    468\u001b[0m \u001b[1;33m\u001b[0m\u001b[0m\n\u001b[0;32m    469\u001b[0m                 \u001b[1;32mif\u001b[0m \u001b[0mshow_progress\u001b[0m\u001b[1;33m:\u001b[0m\u001b[1;33m\u001b[0m\u001b[1;33m\u001b[0m\u001b[0m\n",
      "\u001b[1;32mc:\\users\\schubotz\\appdata\\local\\programs\\python\\python39\\lib\\site-packages\\perfplot\\_main.py\u001b[0m in \u001b[0;36m__next__\u001b[1;34m(self)\u001b[0m\n\u001b[0;32m    244\u001b[0m \u001b[1;33m\u001b[0m\u001b[0m\n\u001b[0;32m    245\u001b[0m             \u001b[0mremaining_time_ns\u001b[0m \u001b[1;33m-=\u001b[0m \u001b[0mt_ns\u001b[0m\u001b[1;33m\u001b[0m\u001b[1;33m\u001b[0m\u001b[0m\n\u001b[1;32m--> 246\u001b[1;33m             \u001b[0mrepeat\u001b[0m \u001b[1;33m=\u001b[0m \u001b[0mremaining_time_ns\u001b[0m \u001b[1;33m//\u001b[0m \u001b[0mt_ns\u001b[0m\u001b[1;33m\u001b[0m\u001b[1;33m\u001b[0m\u001b[0m\n\u001b[0m\u001b[0;32m    247\u001b[0m             \u001b[1;32mif\u001b[0m \u001b[0mrepeat\u001b[0m \u001b[1;33m>\u001b[0m \u001b[1;36m0\u001b[0m\u001b[1;33m:\u001b[0m\u001b[1;33m\u001b[0m\u001b[1;33m\u001b[0m\u001b[0m\n\u001b[0;32m    248\u001b[0m                 \u001b[0mt2\u001b[0m \u001b[1;33m=\u001b[0m \u001b[0m_b\u001b[0m\u001b[1;33m(\u001b[0m\u001b[0mdata\u001b[0m\u001b[1;33m,\u001b[0m \u001b[0mkernel\u001b[0m\u001b[1;33m,\u001b[0m \u001b[0mrepeat\u001b[0m\u001b[1;33m)\u001b[0m\u001b[1;33m\u001b[0m\u001b[1;33m\u001b[0m\u001b[0m\n",
      "\u001b[1;31mZeroDivisionError\u001b[0m: integer division or modulo by zero"
     ]
    }
   ],
   "source": [
    "import numpy as np\n",
    "import perfplot\n",
    "\n",
    "perfplot.show(\n",
    "    setup=lambda n: np.random.rand(n),  # or setup=np.random.rand\n",
    "    kernels=[\n",
    "        lambda a: np.c_[a, a],\n",
    "        lambda a: np.stack([a, a]).T,\n",
    "        lambda a: np.vstack([a, a]).T,\n",
    "        lambda a: np.column_stack([a, a]),\n",
    "        lambda a: np.concatenate([a[:, None], a[:, None]], axis=1),\n",
    "    ],\n",
    "    labels=[\"c_\", \"stack\", \"vstack\", \"column_stack\", \"concat\"],\n",
    "    n_range=[2 ** k for k in range(25)],\n",
    "    xlabel=\"len(a)\",\n",
    "    # More optional arguments with their default values:\n",
    "    # logx=\"auto\",  # set to True or False to force scaling\n",
    "    # logy=\"auto\",\n",
    "    # equality_check=np.allclose,  # set to None to disable \"correctness\" assertion\n",
    "    # show_progress=True,\n",
    "    # target_time_per_measurement=1.0,\n",
    "    # max_time=None,  # maximum time per measurement\n",
    "    # time_unit=\"s\",  # set to one of (\"auto\", \"s\", \"ms\", \"us\", or \"ns\") to force plot units\n",
    "    # relative_to=1,  # plot the timings relative to one of the measurements\n",
    "    # flops=lambda n: 3*n,  # FLOPS plots\n",
    ")"
   ]
  },
  {
   "cell_type": "code",
   "execution_count": 1,
   "id": "chemical-secretary",
   "metadata": {},
   "outputs": [],
   "source": [
    "bla = {}"
   ]
  },
  {
   "cell_type": "code",
   "execution_count": 2,
   "id": "tracked-classification",
   "metadata": {},
   "outputs": [],
   "source": [
    "bla['123'] = [1,2,6]"
   ]
  },
  {
   "cell_type": "code",
   "execution_count": 6,
   "id": "pressed-september",
   "metadata": {},
   "outputs": [
    {
     "data": {
      "text/plain": [
       "3"
      ]
     },
     "execution_count": 6,
     "metadata": {},
     "output_type": "execute_result"
    }
   ],
   "source": [
    "len(bla['123'])"
   ]
  },
  {
   "cell_type": "code",
   "execution_count": 5,
   "id": "intelligent-satin",
   "metadata": {},
   "outputs": [
    {
     "ename": "KeyError",
     "evalue": "0",
     "output_type": "error",
     "traceback": [
      "\u001b[1;31m---------------------------------------------------------------------------\u001b[0m",
      "\u001b[1;31mKeyError\u001b[0m                                  Traceback (most recent call last)",
      "\u001b[1;32m<ipython-input-5-aeccfed52df2>\u001b[0m in \u001b[0;36m<module>\u001b[1;34m\u001b[0m\n\u001b[1;32m----> 1\u001b[1;33m \u001b[0mbla\u001b[0m\u001b[1;33m[\u001b[0m\u001b[1;36m0\u001b[0m\u001b[1;33m]\u001b[0m\u001b[1;33m\u001b[0m\u001b[1;33m\u001b[0m\u001b[0m\n\u001b[0m",
      "\u001b[1;31mKeyError\u001b[0m: 0"
     ]
    }
   ],
   "source": [
    "bla[0]"
   ]
  },
  {
   "cell_type": "code",
   "execution_count": null,
   "id": "identified-honolulu",
   "metadata": {},
   "outputs": [],
   "source": []
  }
 ],
 "metadata": {
  "kernelspec": {
   "display_name": "Python 3 (ipykernel)",
   "language": "python",
   "name": "python3"
  },
  "language_info": {
   "codemirror_mode": {
    "name": "ipython",
    "version": 3
   },
   "file_extension": ".py",
   "mimetype": "text/x-python",
   "name": "python",
   "nbconvert_exporter": "python",
   "pygments_lexer": "ipython3",
   "version": "3.7.0"
  }
 },
 "nbformat": 4,
 "nbformat_minor": 5
}
